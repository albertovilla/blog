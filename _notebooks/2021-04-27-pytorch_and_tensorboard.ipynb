{
 "cells": [
  {
   "cell_type": "markdown",
   "id": "f806e667-cf5d-497e-84e1-5d407e4e2741",
   "metadata": {},
   "source": [
    "# Using Tensorboard with Pytorch\n",
    "> A short tutorial on using Tensorboard with Pytorch\n",
    "\n",
    "- toc: true \n",
    "- badges: true\n",
    "- comments: true\n",
    "- categories: [pytorch, tensorboard]\n",
    "- image: images/chart-preview.png"
   ]
  },
  {
   "cell_type": "markdown",
   "id": "1ed20cdc-89d5-4972-a071-70397fef4b6c",
   "metadata": {},
   "source": [
    "## Library imports"
   ]
  },
  {
   "cell_type": "code",
   "execution_count": 28,
   "id": "d52fd8f9-e0ea-43f1-afda-f49e15df0e6d",
   "metadata": {},
   "outputs": [],
   "source": [
    "import matplotlib.pyplot as plt\n",
    "import random\n",
    "\n",
    "import torch\n",
    "from torchvision import datasets\n",
    "from torchvision.transforms import ToTensor\n",
    "\n",
    "import torch.nn as nn\n",
    "import torch.nn.functional as F"
   ]
  },
  {
   "cell_type": "markdown",
   "id": "da076479-3b76-4376-acb9-c0528b3feeee",
   "metadata": {},
   "source": [
    "## Data loading\n",
    "\n",
    "In order to simplify data loading [PyTorch](https://pytorch.org) provides two dataloading utilities: `torch.utils.data.DataLoader` and `torch.utils.data.Dataset` which are very useful both with pre-loaded datasets and your own data. \n",
    "\n",
    "> \"Dataset stores the samples and their corresponding labels, and DataLoader wraps an iterable around the Dataset to enable easy access to the samples\"\n",
    "\n",
    "In this tutorial we will use a pre-loaded datasets (MNIST) that subclass `torch.utils.data.Dataset`."
   ]
  },
  {
   "cell_type": "code",
   "execution_count": 2,
   "id": "e82d056c-37ba-47d4-8c2c-b05e3f197cec",
   "metadata": {},
   "outputs": [],
   "source": [
    "# Training data\n",
    "train = datasets.MNIST(root='data', \n",
    "                       train=True,\n",
    "                       download=True,\n",
    "                       transform=ToTensor()\n",
    ")\n",
    "\n",
    "# Test data\n",
    "test = datasets.MNIST(root='data',\n",
    "                      train=False,\n",
    "                      download=True,\n",
    "                      transform=ToTensor()\n",
    ")"
   ]
  },
  {
   "cell_type": "markdown",
   "id": "493f9da7-b890-4da2-b2cf-403743b81e66",
   "metadata": {},
   "source": [
    "## Data visualization\n",
    "Let's have a look at the data we have just loaded using a helper function to plot a grid with randomly selected samples from one of the two datasets (training / test) that we have just loaded."
   ]
  },
  {
   "cell_type": "code",
   "execution_count": 26,
   "id": "aecb90b0-1033-47f4-872b-12c0527bcb3f",
   "metadata": {},
   "outputs": [],
   "source": [
    "def plot_images_grid(dataset, rows=4, cols=4):\n",
    "    width = cols * 2\n",
    "    height = cols * 2    \n",
    "    fig = plt.figure(figsize=(width, height))\n",
    "    for i in range(1, rows * cols + 1):\n",
    "        # get a random index and obtain image and label\n",
    "        idx = random.randint(0, len(dataset)-1)\n",
    "        img, label = dataset[idx]\n",
    "        \n",
    "        fig.add_subplot(rows, cols, i)\n",
    "        plt.title(label, {'fontsize': 16, 'color': 'blue'})\n",
    "        plt.axis('off')\n",
    "        plt.imshow(img.squeeze(), cmap='gray')\n",
    "        \n",
    "    plt.show()        "
   ]
  },
  {
   "cell_type": "code",
   "execution_count": 27,
   "id": "b6fa1382-11e4-4a7b-ac3a-b8896fc6353f",
   "metadata": {},
   "outputs": [
    {
     "data": {
      "image/png": "[encoded data removed]",
      "text/plain": [
       "<Figure size 576x576 with 12 Axes>"
      ]
     },
     "metadata": {
      "needs_background": "light"
     },
     "output_type": "display_data"
    }
   ],
   "source": [
    "plot_images_grid(test, 3, 4)"
   ]
  },
  {
   "cell_type": "markdown",
   "id": "fa064073-b44b-43a1-bc57-a1f4075a0532",
   "metadata": {},
   "source": [
    "## Model definition\n",
    "Now, we can define a simple model to recognize the digits in MNIST "
   ]
  },
  {
   "cell_type": "code",
   "execution_count": 29,
   "id": "d2a8f24f-5fc6-4ade-ba32-4770f212c74b",
   "metadata": {},
   "outputs": [],
   "source": [
    "class Digits(nn.Module):\n",
    "    def __init__(self):\n",
    "        super(Digits, self).__init__()\n",
    "        \n",
    "        self.conv_1 = nn.Conv2d(in_channels=1, out_channels=16, kernel_size=3)                \n",
    "        self.conv_2 = nn.Conv2d(in_channels=16, out_channels=32, kernel_size=3)\n",
    "        self.maxpool = nn.MaxPool2d(2, 2)\n",
    "        \n",
    "        self.fc1 = nn.Linear(in_features=32*6*6, out_features=128)\n",
    "        self.fc2 = nn.Linear(in_features=128, out_features=10)\n",
    "        \n",
    "    def forward(self, x):\n",
    "        x = self.maxpool(F.relu(self.conv_1(x)))\n",
    "        x = self.maxpool(F.relu(self.conv_2(x)))\n",
    "        x = x.view(-1, 32 * 6 * 6)\n",
    "        x = F.relu(self.fc1(x))\n",
    "        x = self.fc2(x)\n",
    "        return x"
   ]
  },
  {
   "cell_type": "code",
   "execution_count": 30,
   "id": "bf1550a5-bf64-403b-8df3-34a764c18af6",
   "metadata": {},
   "outputs": [],
   "source": [
    "model = Digits()"
   ]
  },
  {
   "cell_type": "code",
   "execution_count": null,
   "id": "83a260ab-b833-4e0b-97ef-f6de2c3473f6",
   "metadata": {},
   "outputs": [],
   "source": []
  }
 ],
 "metadata": {
  "kernelspec": {
   "display_name": "Python 3",
   "language": "python",
   "name": "python3"
  },
  "language_info": {
   "codemirror_mode": {
    "name": "ipython",
    "version": 3
   },
   "file_extension": ".py",
   "mimetype": "text/x-python",
   "name": "python",
   "nbconvert_exporter": "python",
   "pygments_lexer": "ipython3",
   "version": "3.8.8"
  }
 },
 "nbformat": 4,
 "nbformat_minor": 5
}
